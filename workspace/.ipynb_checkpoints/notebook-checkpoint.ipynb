{
 "cells": [
  {
   "cell_type": "markdown",
   "id": "865afee7",
   "metadata": {
    "dc": {
     "key": "5"
    },
    "deletable": false,
    "editable": false,
    "run_control": {
     "frozen": true
    },
    "tags": [
     "context"
    ]
   },
   "source": [
    "## 1. Scala's real-world project repository data\n",
    "<p>With almost 30k commits and a history spanning over ten years, Scala is a mature programming language. It is a general-purpose programming language that has recently become another prominent language for data scientists.</p>\n",
    "<p>Scala is also an open source project. Open source projects have the advantage that their entire development histories -- who made changes, what was changed, code reviews, etc. -- are publicly available. </p>\n",
    "<p>We're going to read in, clean up, and visualize the real world project repository of Scala that spans data from a version control system (Git) as well as a project hosting site (GitHub). We will find out who has had the most influence on its development and who are the experts.</p>\n",
    "<p>The dataset we will use, which has been previously mined and extracted from GitHub, is comprised of three files:</p>\n",
    "<ol>\n",
    "<li><code>pulls_2011-2013.csv</code> contains the basic information about the pull requests, and spans from the end of 2011 up to (but not including) 2014.</li>\n",
    "<li><code>pulls_2014-2018.csv</code> contains identical information, and spans from 2014 up to 2018.</li>\n",
    "<li><code>pull_files.csv</code> contains the files that were modified by each pull request.</li>\n",
    "</ol>"
   ]
  },
  {
   "cell_type": "code",
   "execution_count": 1,
   "id": "13282333",
   "metadata": {
    "collapsed": true,
    "dc": {
     "key": "5"
    },
    "jupyter": {
     "outputs_hidden": true
    },
    "tags": [
     "sample_code"
    ]
   },
   "outputs": [],
   "source": [
    "# Importing pandas\n",
    "import pandas as pd\n",
    "# ... YOUR CODE FOR TASK 1 ...\n",
    "\n",
    "# Loading in the data\n",
    "pulls_one = pd.read_csv('datasets/pulls_2011-2013.csv')\n",
    "pulls_two = pd.read_csv('datasets/pulls_2014-2018.csv')\n",
    "pull_files = pd.read_csv('datasets/pull_files.csv')"
   ]
  },
  {
   "cell_type": "markdown",
   "id": "071fd9f3",
   "metadata": {
    "dc": {
     "key": "12"
    },
    "deletable": false,
    "editable": false,
    "run_control": {
     "frozen": true
    },
    "tags": [
     "context"
    ]
   },
   "source": [
    "## 2. Preparing and cleaning the data\n",
    "<p>First, we will need to combine the data from the two separate pull DataFrames. </p>\n",
    "<p>Next, the raw data extracted from GitHub contains dates in the ISO8601 format. However, <code>pandas</code> imports them as regular strings. To make our analysis easier, we need to convert the strings into Python's <code>DateTime</code> objects. <code>DateTime</code> objects have the important property that they can be compared and sorted.</p>\n",
    "<p>The pull request times are all in UTC (also known as Coordinated Universal Time). The commit times, however, are in the local time of the author with time zone information (number of hours difference from UTC). To make comparisons easy, we should convert all times to UTC.</p>"
   ]
  },
  {
   "cell_type": "code",
   "execution_count": 2,
   "id": "1a048f87",
   "metadata": {
    "collapsed": true,
    "dc": {
     "key": "12"
    },
    "jupyter": {
     "outputs_hidden": true
    },
    "tags": [
     "sample_code"
    ]
   },
   "outputs": [],
   "source": [
    "# Append pulls_one to pulls_two\n",
    "pulls = pulls_one.append(pulls_two)\n",
    "\n",
    "# Convert the date for the pulls object\n",
    "pulls['date'] = pd.to_datetime(pulls['date'], utc=True)"
   ]
  },
  {
   "cell_type": "markdown",
   "id": "aea09562",
   "metadata": {
    "dc": {
     "key": "19"
    },
    "deletable": false,
    "editable": false,
    "run_control": {
     "frozen": true
    },
    "tags": [
     "context"
    ]
   },
   "source": [
    "## 3. Merging the DataFrames\n",
    "<p>The data extracted comes in two separate files. Merging the two DataFrames will make it easier for us to analyze the data in the future tasks.</p>"
   ]
  },
  {
   "cell_type": "code",
   "execution_count": 3,
   "id": "0a64dd82",
   "metadata": {
    "dc": {
     "key": "19"
    },
    "tags": [
     "sample_code"
    ]
   },
   "outputs": [
    {
     "data": {
      "text/html": [
       "<div>\n",
       "<style scoped>\n",
       "    .dataframe tbody tr th:only-of-type {\n",
       "        vertical-align: middle;\n",
       "    }\n",
       "\n",
       "    .dataframe tbody tr th {\n",
       "        vertical-align: top;\n",
       "    }\n",
       "\n",
       "    .dataframe thead th {\n",
       "        text-align: right;\n",
       "    }\n",
       "</style>\n",
       "<table border=\"1\" class=\"dataframe\">\n",
       "  <thead>\n",
       "    <tr style=\"text-align: right;\">\n",
       "      <th></th>\n",
       "      <th>pid</th>\n",
       "      <th>user</th>\n",
       "      <th>date</th>\n",
       "      <th>file</th>\n",
       "    </tr>\n",
       "  </thead>\n",
       "  <tbody>\n",
       "    <tr>\n",
       "      <th>0</th>\n",
       "      <td>11166973</td>\n",
       "      <td>VladimirNik</td>\n",
       "      <td>2013-12-31 23:10:55+00:00</td>\n",
       "      <td>src/reflect/scala/reflect/api/Printers.scala</td>\n",
       "    </tr>\n",
       "    <tr>\n",
       "      <th>1</th>\n",
       "      <td>11166973</td>\n",
       "      <td>VladimirNik</td>\n",
       "      <td>2013-12-31 23:10:55+00:00</td>\n",
       "      <td>src/reflect/scala/reflect/internal/Printers.scala</td>\n",
       "    </tr>\n",
       "    <tr>\n",
       "      <th>2</th>\n",
       "      <td>11166973</td>\n",
       "      <td>VladimirNik</td>\n",
       "      <td>2013-12-31 23:10:55+00:00</td>\n",
       "      <td>test/files/run/reify_ann3.check</td>\n",
       "    </tr>\n",
       "    <tr>\n",
       "      <th>3</th>\n",
       "      <td>11166973</td>\n",
       "      <td>VladimirNik</td>\n",
       "      <td>2013-12-31 23:10:55+00:00</td>\n",
       "      <td>test/junit/scala/reflect/internal/PrintersTest...</td>\n",
       "    </tr>\n",
       "    <tr>\n",
       "      <th>4</th>\n",
       "      <td>11161892</td>\n",
       "      <td>Ichoran</td>\n",
       "      <td>2013-12-31 16:55:47+00:00</td>\n",
       "      <td>src/library/scala/collection/mutable/ArrayOps....</td>\n",
       "    </tr>\n",
       "    <tr>\n",
       "      <th>5</th>\n",
       "      <td>11153894</td>\n",
       "      <td>Ichoran</td>\n",
       "      <td>2013-12-31 02:41:13+00:00</td>\n",
       "      <td>src/library/scala/collection/immutable/Numeric...</td>\n",
       "    </tr>\n",
       "    <tr>\n",
       "      <th>6</th>\n",
       "      <td>11153894</td>\n",
       "      <td>Ichoran</td>\n",
       "      <td>2013-12-31 02:41:13+00:00</td>\n",
       "      <td>test/junit/scala/collection/NumericRangeTest.s...</td>\n",
       "    </tr>\n",
       "    <tr>\n",
       "      <th>7</th>\n",
       "      <td>11151917</td>\n",
       "      <td>rklaehn</td>\n",
       "      <td>2013-12-30 23:45:47+00:00</td>\n",
       "      <td>src/library/scala/collection/immutable/HashMap...</td>\n",
       "    </tr>\n",
       "    <tr>\n",
       "      <th>8</th>\n",
       "      <td>11151917</td>\n",
       "      <td>rklaehn</td>\n",
       "      <td>2013-12-30 23:45:47+00:00</td>\n",
       "      <td>src/library/scala/collection/immutable/HashSet...</td>\n",
       "    </tr>\n",
       "    <tr>\n",
       "      <th>9</th>\n",
       "      <td>11151917</td>\n",
       "      <td>rklaehn</td>\n",
       "      <td>2013-12-30 23:45:47+00:00</td>\n",
       "      <td>test/files/run/t6196.scala</td>\n",
       "    </tr>\n",
       "    <tr>\n",
       "      <th>10</th>\n",
       "      <td>11151917</td>\n",
       "      <td>rklaehn</td>\n",
       "      <td>2013-12-30 23:45:47+00:00</td>\n",
       "      <td>test/files/run/t6200.scala</td>\n",
       "    </tr>\n",
       "    <tr>\n",
       "      <th>11</th>\n",
       "      <td>11131244</td>\n",
       "      <td>qerub</td>\n",
       "      <td>2013-12-29 17:21:01+00:00</td>\n",
       "      <td>src/library/scala/Enumeration.scala</td>\n",
       "    </tr>\n",
       "    <tr>\n",
       "      <th>12</th>\n",
       "      <td>11131244</td>\n",
       "      <td>qerub</td>\n",
       "      <td>2013-12-29 17:21:01+00:00</td>\n",
       "      <td>src/library/scala/collection/immutable/StringL...</td>\n",
       "    </tr>\n",
       "    <tr>\n",
       "      <th>13</th>\n",
       "      <td>11131244</td>\n",
       "      <td>qerub</td>\n",
       "      <td>2013-12-29 17:21:01+00:00</td>\n",
       "      <td>src/library/scala/util/matching/Regex.scala</td>\n",
       "    </tr>\n",
       "    <tr>\n",
       "      <th>14</th>\n",
       "      <td>11131244</td>\n",
       "      <td>qerub</td>\n",
       "      <td>2013-12-29 17:21:01+00:00</td>\n",
       "      <td>src/repl/scala/tools/nsc/interpreter/JavapClas...</td>\n",
       "    </tr>\n",
       "    <tr>\n",
       "      <th>15</th>\n",
       "      <td>11131244</td>\n",
       "      <td>qerub</td>\n",
       "      <td>2013-12-29 17:21:01+00:00</td>\n",
       "      <td>src/repl/scala/tools/nsc/interpreter/Naming.scala</td>\n",
       "    </tr>\n",
       "    <tr>\n",
       "      <th>16</th>\n",
       "      <td>11130874</td>\n",
       "      <td>Ichoran</td>\n",
       "      <td>2013-12-29 16:03:55+00:00</td>\n",
       "      <td>src/library/scala/math/BigDecimal.scala</td>\n",
       "    </tr>\n",
       "    <tr>\n",
       "      <th>17</th>\n",
       "      <td>11130874</td>\n",
       "      <td>Ichoran</td>\n",
       "      <td>2013-12-29 16:03:55+00:00</td>\n",
       "      <td>src/library/scala/math/BigInt.scala</td>\n",
       "    </tr>\n",
       "    <tr>\n",
       "      <th>18</th>\n",
       "      <td>11130874</td>\n",
       "      <td>Ichoran</td>\n",
       "      <td>2013-12-29 16:03:55+00:00</td>\n",
       "      <td>test/files/jvm/bigints.scala</td>\n",
       "    </tr>\n",
       "    <tr>\n",
       "      <th>19</th>\n",
       "      <td>11130874</td>\n",
       "      <td>Ichoran</td>\n",
       "      <td>2013-12-29 16:03:55+00:00</td>\n",
       "      <td>test/files/run/bigDecimalTest.check</td>\n",
       "    </tr>\n",
       "    <tr>\n",
       "      <th>20</th>\n",
       "      <td>11130874</td>\n",
       "      <td>Ichoran</td>\n",
       "      <td>2013-12-29 16:03:55+00:00</td>\n",
       "      <td>test/files/run/is-valid-num.scala</td>\n",
       "    </tr>\n",
       "    <tr>\n",
       "      <th>21</th>\n",
       "      <td>11130874</td>\n",
       "      <td>Ichoran</td>\n",
       "      <td>2013-12-29 16:03:55+00:00</td>\n",
       "      <td>test/files/run/numbereq.scala</td>\n",
       "    </tr>\n",
       "    <tr>\n",
       "      <th>22</th>\n",
       "      <td>11130874</td>\n",
       "      <td>Ichoran</td>\n",
       "      <td>2013-12-29 16:03:55+00:00</td>\n",
       "      <td>test/junit/scala/math/BigDecimalTest.scala</td>\n",
       "    </tr>\n",
       "    <tr>\n",
       "      <th>23</th>\n",
       "      <td>11129556</td>\n",
       "      <td>rklaehn</td>\n",
       "      <td>2013-12-29 10:15:46+00:00</td>\n",
       "      <td>src/library/scala/collection/immutable/HashSet...</td>\n",
       "    </tr>\n",
       "    <tr>\n",
       "      <th>24</th>\n",
       "      <td>11129556</td>\n",
       "      <td>rklaehn</td>\n",
       "      <td>2013-12-29 10:15:46+00:00</td>\n",
       "      <td>test/files/run/t7326.scala</td>\n",
       "    </tr>\n",
       "    <tr>\n",
       "      <th>25</th>\n",
       "      <td>11126653</td>\n",
       "      <td>xeno-by</td>\n",
       "      <td>2013-12-28 19:39:23+00:00</td>\n",
       "      <td>src/reflect/scala/reflect/internal/Mirrors.scala</td>\n",
       "    </tr>\n",
       "    <tr>\n",
       "      <th>26</th>\n",
       "      <td>11126653</td>\n",
       "      <td>xeno-by</td>\n",
       "      <td>2013-12-28 19:39:23+00:00</td>\n",
       "      <td>test/junit/scala/reflect/internal/MirrorsTest....</td>\n",
       "    </tr>\n",
       "    <tr>\n",
       "      <th>27</th>\n",
       "      <td>11126070</td>\n",
       "      <td>OlivierBlanvillain</td>\n",
       "      <td>2013-12-28 17:32:51+00:00</td>\n",
       "      <td>src/library/scala/collection/convert/DecorateA...</td>\n",
       "    </tr>\n",
       "    <tr>\n",
       "      <th>28</th>\n",
       "      <td>11126070</td>\n",
       "      <td>OlivierBlanvillain</td>\n",
       "      <td>2013-12-28 17:32:51+00:00</td>\n",
       "      <td>src/library/scala/collection/convert/WrapAsJav...</td>\n",
       "    </tr>\n",
       "    <tr>\n",
       "      <th>29</th>\n",
       "      <td>11126070</td>\n",
       "      <td>OlivierBlanvillain</td>\n",
       "      <td>2013-12-28 17:32:51+00:00</td>\n",
       "      <td>src/library/scala/ref/WeakReference.scala</td>\n",
       "    </tr>\n",
       "    <tr>\n",
       "      <th>...</th>\n",
       "      <td>...</td>\n",
       "      <td>...</td>\n",
       "      <td>...</td>\n",
       "      <td>...</td>\n",
       "    </tr>\n",
       "    <tr>\n",
       "      <th>85558</th>\n",
       "      <td>11245823</td>\n",
       "      <td>retronym</td>\n",
       "      <td>2014-01-06 10:30:32+00:00</td>\n",
       "      <td>test/files/pos/t8062.flags</td>\n",
       "    </tr>\n",
       "    <tr>\n",
       "      <th>85559</th>\n",
       "      <td>11245823</td>\n",
       "      <td>retronym</td>\n",
       "      <td>2014-01-06 10:30:32+00:00</td>\n",
       "      <td>test/files/pos/t8062/A_1.scala</td>\n",
       "    </tr>\n",
       "    <tr>\n",
       "      <th>85560</th>\n",
       "      <td>11245823</td>\n",
       "      <td>retronym</td>\n",
       "      <td>2014-01-06 10:30:32+00:00</td>\n",
       "      <td>test/files/pos/t8062/B_2.scala</td>\n",
       "    </tr>\n",
       "    <tr>\n",
       "      <th>85561</th>\n",
       "      <td>11245823</td>\n",
       "      <td>retronym</td>\n",
       "      <td>2014-01-06 10:30:32+00:00</td>\n",
       "      <td>test/files/pos/t8111.scala</td>\n",
       "    </tr>\n",
       "    <tr>\n",
       "      <th>85562</th>\n",
       "      <td>11245823</td>\n",
       "      <td>retronym</td>\n",
       "      <td>2014-01-06 10:30:32+00:00</td>\n",
       "      <td>test/files/presentation/t8085.check</td>\n",
       "    </tr>\n",
       "    <tr>\n",
       "      <th>85563</th>\n",
       "      <td>11245823</td>\n",
       "      <td>retronym</td>\n",
       "      <td>2014-01-06 10:30:32+00:00</td>\n",
       "      <td>test/files/presentation/t8085.flags</td>\n",
       "    </tr>\n",
       "    <tr>\n",
       "      <th>85564</th>\n",
       "      <td>11245823</td>\n",
       "      <td>retronym</td>\n",
       "      <td>2014-01-06 10:30:32+00:00</td>\n",
       "      <td>test/files/presentation/t8085/Test.scala</td>\n",
       "    </tr>\n",
       "    <tr>\n",
       "      <th>85565</th>\n",
       "      <td>11245823</td>\n",
       "      <td>retronym</td>\n",
       "      <td>2014-01-06 10:30:32+00:00</td>\n",
       "      <td>test/files/presentation/t8085/src/nodescala/Fo...</td>\n",
       "    </tr>\n",
       "    <tr>\n",
       "      <th>85566</th>\n",
       "      <td>11245823</td>\n",
       "      <td>retronym</td>\n",
       "      <td>2014-01-06 10:30:32+00:00</td>\n",
       "      <td>test/files/presentation/t8085/src/nodescala/No...</td>\n",
       "    </tr>\n",
       "    <tr>\n",
       "      <th>85567</th>\n",
       "      <td>11245823</td>\n",
       "      <td>retronym</td>\n",
       "      <td>2014-01-06 10:30:32+00:00</td>\n",
       "      <td>test/files/presentation/t8085/src/nodescala/pa...</td>\n",
       "    </tr>\n",
       "    <tr>\n",
       "      <th>85568</th>\n",
       "      <td>11245823</td>\n",
       "      <td>retronym</td>\n",
       "      <td>2014-01-06 10:30:32+00:00</td>\n",
       "      <td>test/files/presentation/t8085b.check</td>\n",
       "    </tr>\n",
       "    <tr>\n",
       "      <th>85569</th>\n",
       "      <td>11245823</td>\n",
       "      <td>retronym</td>\n",
       "      <td>2014-01-06 10:30:32+00:00</td>\n",
       "      <td>test/files/presentation/t8085b.flags</td>\n",
       "    </tr>\n",
       "    <tr>\n",
       "      <th>85570</th>\n",
       "      <td>11245823</td>\n",
       "      <td>retronym</td>\n",
       "      <td>2014-01-06 10:30:32+00:00</td>\n",
       "      <td>test/files/presentation/t8085b/Test.scala</td>\n",
       "    </tr>\n",
       "    <tr>\n",
       "      <th>85571</th>\n",
       "      <td>11245823</td>\n",
       "      <td>retronym</td>\n",
       "      <td>2014-01-06 10:30:32+00:00</td>\n",
       "      <td>test/files/presentation/t8085b/src/p1/nodescal...</td>\n",
       "    </tr>\n",
       "    <tr>\n",
       "      <th>85572</th>\n",
       "      <td>11245823</td>\n",
       "      <td>retronym</td>\n",
       "      <td>2014-01-06 10:30:32+00:00</td>\n",
       "      <td>test/files/presentation/t8085b/src/p1/nodescal...</td>\n",
       "    </tr>\n",
       "    <tr>\n",
       "      <th>85573</th>\n",
       "      <td>11245823</td>\n",
       "      <td>retronym</td>\n",
       "      <td>2014-01-06 10:30:32+00:00</td>\n",
       "      <td>test/files/presentation/t8085b/src/p1/nodescal...</td>\n",
       "    </tr>\n",
       "    <tr>\n",
       "      <th>85574</th>\n",
       "      <td>11245823</td>\n",
       "      <td>retronym</td>\n",
       "      <td>2014-01-06 10:30:32+00:00</td>\n",
       "      <td>test/files/run/large_code.check</td>\n",
       "    </tr>\n",
       "    <tr>\n",
       "      <th>85575</th>\n",
       "      <td>11245823</td>\n",
       "      <td>retronym</td>\n",
       "      <td>2014-01-06 10:30:32+00:00</td>\n",
       "      <td>test/files/run/large_code.scala</td>\n",
       "    </tr>\n",
       "    <tr>\n",
       "      <th>85576</th>\n",
       "      <td>11244241</td>\n",
       "      <td>folone</td>\n",
       "      <td>2014-01-06 09:07:34+00:00</td>\n",
       "      <td>src/reflect/scala/reflect/api/StandardLiftable...</td>\n",
       "    </tr>\n",
       "    <tr>\n",
       "      <th>85577</th>\n",
       "      <td>11244241</td>\n",
       "      <td>folone</td>\n",
       "      <td>2014-01-06 09:07:34+00:00</td>\n",
       "      <td>test/files/scalacheck/quasiquotes/LiftableCase...</td>\n",
       "    </tr>\n",
       "    <tr>\n",
       "      <th>85578</th>\n",
       "      <td>11244241</td>\n",
       "      <td>folone</td>\n",
       "      <td>2014-01-06 09:07:34+00:00</td>\n",
       "      <td>test/files/scalacheck/quasiquotes/Test.scala</td>\n",
       "    </tr>\n",
       "    <tr>\n",
       "      <th>85579</th>\n",
       "      <td>11240674</td>\n",
       "      <td>clhodapp</td>\n",
       "      <td>2014-01-06 03:52:23+00:00</td>\n",
       "      <td>src/library/scala/math/Numeric.scala</td>\n",
       "    </tr>\n",
       "    <tr>\n",
       "      <th>85580</th>\n",
       "      <td>11240674</td>\n",
       "      <td>clhodapp</td>\n",
       "      <td>2014-01-06 03:52:23+00:00</td>\n",
       "      <td>test/junit/scala/math/NumericTest.scala</td>\n",
       "    </tr>\n",
       "    <tr>\n",
       "      <th>85581</th>\n",
       "      <td>11234757</td>\n",
       "      <td>xeno-by</td>\n",
       "      <td>2014-01-05 12:23:24+00:00</td>\n",
       "      <td>src/reflect/scala/reflect/api/Trees.scala</td>\n",
       "    </tr>\n",
       "    <tr>\n",
       "      <th>85582</th>\n",
       "      <td>11231462</td>\n",
       "      <td>rklaehn</td>\n",
       "      <td>2014-01-04 22:42:02+00:00</td>\n",
       "      <td>src/library/scala/collection/immutable/HashMap...</td>\n",
       "    </tr>\n",
       "    <tr>\n",
       "      <th>85583</th>\n",
       "      <td>11231462</td>\n",
       "      <td>rklaehn</td>\n",
       "      <td>2014-01-04 22:42:02+00:00</td>\n",
       "      <td>src/library/scala/collection/immutable/HashSet...</td>\n",
       "    </tr>\n",
       "    <tr>\n",
       "      <th>85584</th>\n",
       "      <td>11188295</td>\n",
       "      <td>rklaehn</td>\n",
       "      <td>2014-01-02 18:55:33+00:00</td>\n",
       "      <td>src/library/scala/collection/immutable/HashSet...</td>\n",
       "    </tr>\n",
       "    <tr>\n",
       "      <th>85585</th>\n",
       "      <td>11188295</td>\n",
       "      <td>rklaehn</td>\n",
       "      <td>2014-01-02 18:55:33+00:00</td>\n",
       "      <td>test/files/run/t6253a.scala</td>\n",
       "    </tr>\n",
       "    <tr>\n",
       "      <th>85586</th>\n",
       "      <td>11188295</td>\n",
       "      <td>rklaehn</td>\n",
       "      <td>2014-01-02 18:55:33+00:00</td>\n",
       "      <td>test/files/run/t6253b.scala</td>\n",
       "    </tr>\n",
       "    <tr>\n",
       "      <th>85587</th>\n",
       "      <td>11188295</td>\n",
       "      <td>rklaehn</td>\n",
       "      <td>2014-01-02 18:55:33+00:00</td>\n",
       "      <td>test/files/run/t6253c.scala</td>\n",
       "    </tr>\n",
       "  </tbody>\n",
       "</table>\n",
       "<p>85588 rows × 4 columns</p>\n",
       "</div>"
      ],
      "text/plain": [
       "            pid                user                      date  \\\n",
       "0      11166973         VladimirNik 2013-12-31 23:10:55+00:00   \n",
       "1      11166973         VladimirNik 2013-12-31 23:10:55+00:00   \n",
       "2      11166973         VladimirNik 2013-12-31 23:10:55+00:00   \n",
       "3      11166973         VladimirNik 2013-12-31 23:10:55+00:00   \n",
       "4      11161892             Ichoran 2013-12-31 16:55:47+00:00   \n",
       "5      11153894             Ichoran 2013-12-31 02:41:13+00:00   \n",
       "6      11153894             Ichoran 2013-12-31 02:41:13+00:00   \n",
       "7      11151917             rklaehn 2013-12-30 23:45:47+00:00   \n",
       "8      11151917             rklaehn 2013-12-30 23:45:47+00:00   \n",
       "9      11151917             rklaehn 2013-12-30 23:45:47+00:00   \n",
       "10     11151917             rklaehn 2013-12-30 23:45:47+00:00   \n",
       "11     11131244               qerub 2013-12-29 17:21:01+00:00   \n",
       "12     11131244               qerub 2013-12-29 17:21:01+00:00   \n",
       "13     11131244               qerub 2013-12-29 17:21:01+00:00   \n",
       "14     11131244               qerub 2013-12-29 17:21:01+00:00   \n",
       "15     11131244               qerub 2013-12-29 17:21:01+00:00   \n",
       "16     11130874             Ichoran 2013-12-29 16:03:55+00:00   \n",
       "17     11130874             Ichoran 2013-12-29 16:03:55+00:00   \n",
       "18     11130874             Ichoran 2013-12-29 16:03:55+00:00   \n",
       "19     11130874             Ichoran 2013-12-29 16:03:55+00:00   \n",
       "20     11130874             Ichoran 2013-12-29 16:03:55+00:00   \n",
       "21     11130874             Ichoran 2013-12-29 16:03:55+00:00   \n",
       "22     11130874             Ichoran 2013-12-29 16:03:55+00:00   \n",
       "23     11129556             rklaehn 2013-12-29 10:15:46+00:00   \n",
       "24     11129556             rklaehn 2013-12-29 10:15:46+00:00   \n",
       "25     11126653             xeno-by 2013-12-28 19:39:23+00:00   \n",
       "26     11126653             xeno-by 2013-12-28 19:39:23+00:00   \n",
       "27     11126070  OlivierBlanvillain 2013-12-28 17:32:51+00:00   \n",
       "28     11126070  OlivierBlanvillain 2013-12-28 17:32:51+00:00   \n",
       "29     11126070  OlivierBlanvillain 2013-12-28 17:32:51+00:00   \n",
       "...         ...                 ...                       ...   \n",
       "85558  11245823            retronym 2014-01-06 10:30:32+00:00   \n",
       "85559  11245823            retronym 2014-01-06 10:30:32+00:00   \n",
       "85560  11245823            retronym 2014-01-06 10:30:32+00:00   \n",
       "85561  11245823            retronym 2014-01-06 10:30:32+00:00   \n",
       "85562  11245823            retronym 2014-01-06 10:30:32+00:00   \n",
       "85563  11245823            retronym 2014-01-06 10:30:32+00:00   \n",
       "85564  11245823            retronym 2014-01-06 10:30:32+00:00   \n",
       "85565  11245823            retronym 2014-01-06 10:30:32+00:00   \n",
       "85566  11245823            retronym 2014-01-06 10:30:32+00:00   \n",
       "85567  11245823            retronym 2014-01-06 10:30:32+00:00   \n",
       "85568  11245823            retronym 2014-01-06 10:30:32+00:00   \n",
       "85569  11245823            retronym 2014-01-06 10:30:32+00:00   \n",
       "85570  11245823            retronym 2014-01-06 10:30:32+00:00   \n",
       "85571  11245823            retronym 2014-01-06 10:30:32+00:00   \n",
       "85572  11245823            retronym 2014-01-06 10:30:32+00:00   \n",
       "85573  11245823            retronym 2014-01-06 10:30:32+00:00   \n",
       "85574  11245823            retronym 2014-01-06 10:30:32+00:00   \n",
       "85575  11245823            retronym 2014-01-06 10:30:32+00:00   \n",
       "85576  11244241              folone 2014-01-06 09:07:34+00:00   \n",
       "85577  11244241              folone 2014-01-06 09:07:34+00:00   \n",
       "85578  11244241              folone 2014-01-06 09:07:34+00:00   \n",
       "85579  11240674            clhodapp 2014-01-06 03:52:23+00:00   \n",
       "85580  11240674            clhodapp 2014-01-06 03:52:23+00:00   \n",
       "85581  11234757             xeno-by 2014-01-05 12:23:24+00:00   \n",
       "85582  11231462             rklaehn 2014-01-04 22:42:02+00:00   \n",
       "85583  11231462             rklaehn 2014-01-04 22:42:02+00:00   \n",
       "85584  11188295             rklaehn 2014-01-02 18:55:33+00:00   \n",
       "85585  11188295             rklaehn 2014-01-02 18:55:33+00:00   \n",
       "85586  11188295             rklaehn 2014-01-02 18:55:33+00:00   \n",
       "85587  11188295             rklaehn 2014-01-02 18:55:33+00:00   \n",
       "\n",
       "                                                    file  \n",
       "0           src/reflect/scala/reflect/api/Printers.scala  \n",
       "1      src/reflect/scala/reflect/internal/Printers.scala  \n",
       "2                        test/files/run/reify_ann3.check  \n",
       "3      test/junit/scala/reflect/internal/PrintersTest...  \n",
       "4      src/library/scala/collection/mutable/ArrayOps....  \n",
       "5      src/library/scala/collection/immutable/Numeric...  \n",
       "6      test/junit/scala/collection/NumericRangeTest.s...  \n",
       "7      src/library/scala/collection/immutable/HashMap...  \n",
       "8      src/library/scala/collection/immutable/HashSet...  \n",
       "9                             test/files/run/t6196.scala  \n",
       "10                            test/files/run/t6200.scala  \n",
       "11                   src/library/scala/Enumeration.scala  \n",
       "12     src/library/scala/collection/immutable/StringL...  \n",
       "13           src/library/scala/util/matching/Regex.scala  \n",
       "14     src/repl/scala/tools/nsc/interpreter/JavapClas...  \n",
       "15     src/repl/scala/tools/nsc/interpreter/Naming.scala  \n",
       "16               src/library/scala/math/BigDecimal.scala  \n",
       "17                   src/library/scala/math/BigInt.scala  \n",
       "18                          test/files/jvm/bigints.scala  \n",
       "19                   test/files/run/bigDecimalTest.check  \n",
       "20                     test/files/run/is-valid-num.scala  \n",
       "21                         test/files/run/numbereq.scala  \n",
       "22            test/junit/scala/math/BigDecimalTest.scala  \n",
       "23     src/library/scala/collection/immutable/HashSet...  \n",
       "24                            test/files/run/t7326.scala  \n",
       "25      src/reflect/scala/reflect/internal/Mirrors.scala  \n",
       "26     test/junit/scala/reflect/internal/MirrorsTest....  \n",
       "27     src/library/scala/collection/convert/DecorateA...  \n",
       "28     src/library/scala/collection/convert/WrapAsJav...  \n",
       "29             src/library/scala/ref/WeakReference.scala  \n",
       "...                                                  ...  \n",
       "85558                         test/files/pos/t8062.flags  \n",
       "85559                     test/files/pos/t8062/A_1.scala  \n",
       "85560                     test/files/pos/t8062/B_2.scala  \n",
       "85561                         test/files/pos/t8111.scala  \n",
       "85562                test/files/presentation/t8085.check  \n",
       "85563                test/files/presentation/t8085.flags  \n",
       "85564           test/files/presentation/t8085/Test.scala  \n",
       "85565  test/files/presentation/t8085/src/nodescala/Fo...  \n",
       "85566  test/files/presentation/t8085/src/nodescala/No...  \n",
       "85567  test/files/presentation/t8085/src/nodescala/pa...  \n",
       "85568               test/files/presentation/t8085b.check  \n",
       "85569               test/files/presentation/t8085b.flags  \n",
       "85570          test/files/presentation/t8085b/Test.scala  \n",
       "85571  test/files/presentation/t8085b/src/p1/nodescal...  \n",
       "85572  test/files/presentation/t8085b/src/p1/nodescal...  \n",
       "85573  test/files/presentation/t8085b/src/p1/nodescal...  \n",
       "85574                    test/files/run/large_code.check  \n",
       "85575                    test/files/run/large_code.scala  \n",
       "85576  src/reflect/scala/reflect/api/StandardLiftable...  \n",
       "85577  test/files/scalacheck/quasiquotes/LiftableCase...  \n",
       "85578       test/files/scalacheck/quasiquotes/Test.scala  \n",
       "85579               src/library/scala/math/Numeric.scala  \n",
       "85580            test/junit/scala/math/NumericTest.scala  \n",
       "85581          src/reflect/scala/reflect/api/Trees.scala  \n",
       "85582  src/library/scala/collection/immutable/HashMap...  \n",
       "85583  src/library/scala/collection/immutable/HashSet...  \n",
       "85584  src/library/scala/collection/immutable/HashSet...  \n",
       "85585                        test/files/run/t6253a.scala  \n",
       "85586                        test/files/run/t6253b.scala  \n",
       "85587                        test/files/run/t6253c.scala  \n",
       "\n",
       "[85588 rows x 4 columns]"
      ]
     },
     "execution_count": 3,
     "metadata": {},
     "output_type": "execute_result"
    }
   ],
   "source": [
    "# Merge the two DataFrames\n",
    "data = pulls.merge(pull_files, on='pid')\n",
    "data"
   ]
  },
  {
   "cell_type": "markdown",
   "id": "2f2be13f",
   "metadata": {
    "dc": {
     "key": "26"
    },
    "deletable": false,
    "editable": false,
    "run_control": {
     "frozen": true
    },
    "tags": [
     "context"
    ]
   },
   "source": [
    "## 4. Is the project still actively maintained?\n",
    "<p>The activity in an open source project is not very consistent. Some projects might be active for many years after the initial release, while others can slowly taper out into oblivion. Before committing to contributing to a project, it is important to understand the state of the project. Is development going steadily, or is there a drop? Has the project been abandoned altogether?</p>\n",
    "<p>The data used in this project was collected in January of 2018. We are interested in the evolution of the number of contributions up to that date.</p>\n",
    "<p>For Scala, we will do this by plotting a chart of the project's activity. We will calculate the number of pull requests submitted each (calendar) month during the project's lifetime. We will then plot these numbers to see the trend of contributions.</p>\n",
    "<ul>\n",
    "<li><p>A helpful reminder of how to access various components of a date can be found in <a href=\"https://campus.datacamp.com/courses/data-manipulation-with-pandas/slicing-and-indexing?ex=12\">this exercise of Data Manipulation with pandas</a></p></li>\n",
    "<li><p>Additionally, recall that you can group by multiple variables by passing a list to <code>groupby()</code>. This video from <a href=\"https://campus.datacamp.com/courses/data-manipulation-with-pandas/aggregating-data-ad6d4643-0e95-470c-8299-f69cc4c83de8?ex=9\">Data Manipulation with pandas</a> should help!</p></li>\n",
    "</ul>"
   ]
  },
  {
   "cell_type": "code",
   "execution_count": 7,
   "id": "53943fa6",
   "metadata": {
    "dc": {
     "key": "26"
    },
    "tags": [
     "sample_code"
    ]
   },
   "outputs": [
    {
     "data": {
      "text/plain": [
       "<matplotlib.axes._subplots.AxesSubplot at 0x7f4c823b44e0>"
      ]
     },
     "execution_count": 7,
     "metadata": {},
     "output_type": "execute_result"
    },
    {
     "data": {
      "image/png": "[encoded data removed]",
      "text/plain": [
       "<Figure size 864x288 with 1 Axes>"
      ]
     },
     "metadata": {},
     "output_type": "display_data"
    }
   ],
   "source": [
    "%matplotlib inline\n",
    "\n",
    "data['year'], data['month'] = data['date'].dt.year, data['date'].dt.month\n",
    "\n",
    "# Group by the month and year and count the pull requests\n",
    "counts = data.groupby(['month','year'])['pid'].count()\n",
    "\n",
    "# Plot the results\n",
    "counts.plot(kind='bar', figsize = (12,4))"
   ]
  },
  {
   "cell_type": "markdown",
   "id": "43ecb40f",
   "metadata": {
    "dc": {
     "key": "33"
    },
    "deletable": false,
    "editable": false,
    "run_control": {
     "frozen": true
    },
    "tags": [
     "context"
    ]
   },
   "source": [
    "## 5. Is there camaraderie in the project?\n",
    "<p>The organizational structure varies from one project to another, and it can influence your success as a contributor. A project that has a very small community might not be the best one to start working on. The small community might indicate a high barrier of entry. This can be caused by several factors, including a community that is reluctant to accept pull requests from \"outsiders,\" that the code base is hard to work with, etc. However, a large community can serve as an indicator that the project is regularly accepting pull requests from new contributors. Such a project would be a good place to start.</p>\n",
    "<p>In order to evaluate the dynamics of the community, we will plot a histogram of the number of pull requests submitted by each user. A distribution that shows that there are few people that only contribute a small number of pull requests can be used as in indicator that the project is not welcoming of new contributors. </p>"
   ]
  },
  {
   "cell_type": "code",
   "execution_count": 14,
   "id": "56c94ce5",
   "metadata": {
    "dc": {
     "key": "33"
    },
    "tags": [
     "sample_code"
    ]
   },
   "outputs": [
    {
     "data": {
      "text/plain": [
       "<matplotlib.axes._subplots.AxesSubplot at 0x7f4c7ff64f98>"
      ]
     },
     "execution_count": 14,
     "metadata": {},
     "output_type": "execute_result"
    },
    {
     "data": {
      "image/png": "[encoded data removed]",
      "text/plain": [
       "<Figure size 864x288 with 1 Axes>"
      ]
     },
     "metadata": {},
     "output_type": "display_data"
    }
   ],
   "source": [
    "# Required for matplotlib\n",
    "%matplotlib inline\n",
    "\n",
    "# Group by the submitter\n",
    "by_user = data.groupby(\"user\").agg({'pid': 'count'})\n",
    "\n",
    "# Plot the histogram\n",
    "by_user.plot(kind='hist', figsize = (12,4))"
   ]
  },
  {
   "cell_type": "markdown",
   "id": "14cfdc48",
   "metadata": {
    "dc": {
     "key": "40"
    },
    "deletable": false,
    "editable": false,
    "run_control": {
     "frozen": true
    },
    "tags": [
     "context"
    ]
   },
   "source": [
    "## 6. What files were changed in the last ten pull requests?\n",
    "<p>Choosing the right place to make a contribution is as important as choosing the project to contribute to. Some parts of the code might be stable, some might be dead. Contributing there might not have the most impact. Therefore it is important to understand the parts of the system that have been recently changed. This allows us to pinpoint the \"hot\" areas of the code where most of the activity is happening. Focusing on those parts might not the most effective use of our times.</p>"
   ]
  },
  {
   "cell_type": "code",
   "execution_count": 15,
   "id": "4196a2e7",
   "metadata": {
    "dc": {
     "key": "40"
    },
    "tags": [
     "sample_code"
    ]
   },
   "outputs": [
    {
     "data": {
      "text/plain": [
       "array(['test/files/pos/t5638/Among.java',\n",
       "       'test/files/pos/t5638/Usage.scala', 'test/files/pos/t9291.scala',\n",
       "       'test/files/run/t8348.check',\n",
       "       'test/files/run/t8348/TableColumn.java',\n",
       "       'test/files/run/t8348/TableColumnImpl.java',\n",
       "       'test/files/run/t8348/Test.scala',\n",
       "       'src/library/scala/concurrent/Lock.scala',\n",
       "       'src/compiler/scala/tools/nsc/profile/AsyncHelper.scala',\n",
       "       'src/compiler/scala/tools/nsc/profile/Profiler.scala',\n",
       "       'src/compiler/scala/tools/nsc/backend/jvm/BCodeHelpers.scala',\n",
       "       'src/compiler/scala/tools/nsc/symtab/classfile/ClassfileParser.scala',\n",
       "       'src/reflect/scala/reflect/internal/pickling/ByteCodecs.scala',\n",
       "       'src/compiler/scala/reflect/reify/phases/Calculate.scala',\n",
       "       'src/library/scala/Predef.scala',\n",
       "       'test/files/neg/leibniz-liskov.check',\n",
       "       'test/files/neg/leibniz-liskov.scala',\n",
       "       'test/files/pos/leibniz-liskov.scala',\n",
       "       'test/files/pos/leibniz_liskov.scala',\n",
       "       'src/compiler/scala/tools/nsc/typechecker/Contexts.scala',\n",
       "       'test/files/pos/parallel-classloader.scala',\n",
       "       'test/files/pos/t10568/Converter.java',\n",
       "       'test/files/pos/t10568/Impl.scala',\n",
       "       'src/compiler/scala/tools/nsc/backend/jvm/PostProcessor.scala',\n",
       "       'src/compiler/scala/tools/nsc/backend/jvm/analysis/BackendUtils.scala',\n",
       "       'LICENSE', 'doc/LICENSE.md', 'doc/License.rtf',\n",
       "       'project/VersionUtil.scala',\n",
       "       'src/library/scala/util/Properties.scala',\n",
       "       'src/scaladoc/scala/tools/nsc/doc/html/page/Entity.scala',\n",
       "       'src/scalap/decoder.properties',\n",
       "       'src/reflect/scala/reflect/internal/tpe/GlbLubs.scala',\n",
       "       'test/files/pos/t10686.scala'], dtype=object)"
      ]
     },
     "execution_count": 15,
     "metadata": {},
     "output_type": "execute_result"
    }
   ],
   "source": [
    "# Identify the last 10 pull requests\n",
    "last_10 = pulls.nlargest(10, 'date')\n",
    "\n",
    "# Join the two data sets\n",
    "joined_pr = last_10.merge(pull_files, on='pid')\n",
    "\n",
    "# Identify the unique files\n",
    "files = joined_pr['file'].unique()\n",
    "\n",
    "# Print the results\n",
    "files"
   ]
  },
  {
   "cell_type": "markdown",
   "id": "6d6f7e74",
   "metadata": {
    "dc": {
     "key": "47"
    },
    "deletable": false,
    "editable": false,
    "run_control": {
     "frozen": true
    },
    "tags": [
     "context"
    ]
   },
   "source": [
    "## 7. Who made the most pull requests to a given file?\n",
    "<p>When contributing to a project, we might need some guidance. We might find ourselves needing some information regarding the codebase. It is important direct any questions to the right person. Contributors to open source projects generally have other day jobs, so their time is limited. It is important to address our questions to the right people. One way to identify the right target for our inquiries is by using their contribution history.</p>\n",
    "<p>We identified <code>src/compiler/scala/reflect/reify/phases/Calculate.scala</code> as being recently changed. We are interested in the top 3 developers who changed that file. Those developers are the ones most likely to have the best understanding of the code.</p>"
   ]
  },
  {
   "cell_type": "code",
   "execution_count": 16,
   "id": "3a3b7b0d",
   "metadata": {
    "dc": {
     "key": "47"
    },
    "tags": [
     "sample_code"
    ]
   },
   "outputs": [
    {
     "name": "stdout",
     "output_type": "stream",
     "text": [
      "          pid  date  file  year  month\n",
      "user                                  \n",
      "xeno-by    11    11    11    11     11\n",
      "retronym    5     5     5     5      5\n",
      "soc         4     4     4     4      4\n"
     ]
    }
   ],
   "source": [
    "# This is the file we are interested in:\n",
    "file = 'src/compiler/scala/reflect/reify/phases/Calculate.scala'\n",
    "\n",
    "# Identify the commits that changed the file\n",
    "file_pr = data[data['file'] == file]\n",
    "\n",
    "# Count the number of changes made by each developer\n",
    "author_counts = file_pr.groupby('user').count()\n",
    "\n",
    "# Print the top 3 developers\n",
    "print(author_counts.nlargest(3, 'file'))"
   ]
  },
  {
   "cell_type": "markdown",
   "id": "cbabe38d",
   "metadata": {
    "dc": {
     "key": "54"
    },
    "deletable": false,
    "editable": false,
    "run_control": {
     "frozen": true
    },
    "tags": [
     "context"
    ]
   },
   "source": [
    "## 8. Who made the last ten pull requests on a given file?\n",
    "<p>Open source projects suffer from fluctuating membership. This makes the problem of finding the right person more challenging: the person has to be knowledgeable <em>and</em> still be involved in the project. A person that contributed a lot in the past might no longer be available (or willing) to help. To get a better understanding, we need to investigate the more recent history of that particular part of the system. </p>\n",
    "<p>Like in the previous task, we will look at the history of  <code>src/compiler/scala/reflect/reify/phases/Calculate.scala</code>.</p>"
   ]
  },
  {
   "cell_type": "code",
   "execution_count": 20,
   "id": "6d0fc827",
   "metadata": {
    "dc": {
     "key": "54"
    },
    "tags": [
     "sample_code"
    ]
   },
   "outputs": [
    {
     "data": {
      "text/plain": [
       "{'bjornregnell', 'retronym', 'soc', 'starblood', 'xeno-by', 'zuvizudar'}"
      ]
     },
     "execution_count": 20,
     "metadata": {},
     "output_type": "execute_result"
    }
   ],
   "source": [
    "file = 'src/compiler/scala/reflect/reify/phases/Calculate.scala'\n",
    "\n",
    "# Select the pull requests that changed the target file\n",
    "file_pr = pull_files[pull_files[\"file\"] == file]\n",
    "\n",
    "# Merge the obtained results with the pulls DataFrame\n",
    "joined_pr = pulls.merge(file_pr, on=\"pid\")\n",
    "\n",
    "# Find the users of the last 10 most recent pull requests\n",
    "users_last_10 = set(joined_pr.nlargest(10, \"date\")[\"user\"])\n",
    "\n",
    "# Printing the results\n",
    "users_last_10"
   ]
  },
  {
   "cell_type": "markdown",
   "id": "e93b668a",
   "metadata": {
    "dc": {
     "key": "61"
    },
    "deletable": false,
    "editable": false,
    "run_control": {
     "frozen": true
    },
    "tags": [
     "context"
    ]
   },
   "source": [
    "## 9. The pull requests of two special developers\n",
    "<p>Now that we have identified two potential contacts in the projects, we need to find the person who was most involved in the project in recent times. That person is most likely to answer our questions. For each calendar year, we are interested in understanding the number of pull requests the authors submitted. This will give us a high-level image of their contribution trend to the project.</p>"
   ]
  },
  {
   "cell_type": "code",
   "execution_count": 27,
   "id": "6957d19f",
   "metadata": {
    "dc": {
     "key": "61"
    },
    "tags": [
     "sample_code"
    ]
   },
   "outputs": [
    {
     "data": {
      "text/plain": [
       "<matplotlib.axes._subplots.AxesSubplot at 0x7f4c7fe24668>"
      ]
     },
     "execution_count": 27,
     "metadata": {},
     "output_type": "execute_result"
    },
    {
     "data": {
      "image/png": "[encoded data removed]",
      "text/plain": [
       "<Figure size 432x288 with 1 Axes>"
      ]
     },
     "metadata": {},
     "output_type": "display_data"
    }
   ],
   "source": [
    "%matplotlib inline\n",
    "\n",
    "# The developers we are interested in\n",
    "authors = ['xeno-by', 'soc']\n",
    "\n",
    "# Get all the developers' pull requests\n",
    "by_author = pulls[pulls['user'].isin(authors)]\n",
    "\n",
    "# Count the number of pull requests submitted each year\n",
    "counts = by_author.groupby([by_author[\"user\"], by_author[\"date\"].dt.year]).agg({'pid': 'count'}).reset_index()\n",
    "\n",
    "# Convert the table to a wide format\n",
    "counts_wide = counts.pivot_table(index='date', columns='user', values='pid', fill_value=0)\n",
    "\n",
    "# Plot the results\n",
    "counts_wide.plot(kind=\"bar\", )"
   ]
  },
  {
   "cell_type": "markdown",
   "id": "32751f29",
   "metadata": {
    "dc": {
     "key": "68"
    },
    "deletable": false,
    "editable": false,
    "run_control": {
     "frozen": true
    },
    "tags": [
     "context"
    ]
   },
   "source": [
    "## 10. Visualizing the contributions of each developer\n",
    "<p>As mentioned before, it is important to make a distinction between the global expertise and contribution levels and the contribution levels at a more granular level (file, submodule, etc.) In our case, we want to see which of our two developers of interest have the most experience with the code in a given file. We will measure experience by the number of pull requests submitted that affect that file and how recent those pull requests were submitted.</p>"
   ]
  },
  {
   "cell_type": "code",
   "execution_count": 26,
   "id": "47ce92ca",
   "metadata": {
    "dc": {
     "key": "68"
    },
    "tags": [
     "sample_code"
    ]
   },
   "outputs": [
    {
     "ename": "AttributeError",
     "evalue": "'ellipsis' object has no attribute 'groupby'",
     "output_type": "error",
     "traceback": [
      "---------------------------------------------------------------------------",
      "AttributeError                            Traceback (most recent call last)",
      "<ipython-input-26-875272dbab96> in <module>()\n      9 \n     10 # Group and count the number of PRs done by each user each year\n---> 11 grouped = by_file.groupby([by_file['user'], by_file['date'].dt.year]).count()['pid'].reset_index()\n     12 \n     13 # Transform the data into a wide format\n",
      "AttributeError: 'ellipsis' object has no attribute 'groupby'"
     ]
    }
   ],
   "source": [
    "authors = ['xeno-by', 'soc']\n",
    "file = 'src/compiler/scala/reflect/reify/phases/Calculate.scala'\n",
    "\n",
    "# Select the pull requests submitted by the authors, from the `data` DataFrame\n",
    "by_author = data[data[\"user\"] == authors]\n",
    "\n",
    "# Select the pull requests that affect the file\n",
    "by_file = by_author[by_author[\"file\"] == file]\n",
    "\n",
    "# Group and count the number of PRs done by each user each year\n",
    "grouped = by_file.groupby([by_file['user'], by_file['date'].dt.year]).count()['pid'].reset_index()\n",
    "\n",
    "# Transform the data into a wide format\n",
    "by_file_wide = grouped.pivot_table(index=\"date\")\n",
    "\n",
    "# Plot the results\n",
    "by_file_wide.plot(kind='bar')"
   ]
  }
 ],
 "metadata": {
  "kernelspec": {
   "display_name": "Python 3 (ipykernel)",
   "language": "python",
   "name": "python3"
  },
  "language_info": {
   "codemirror_mode": {
    "name": "ipython",
    "version": 3
   },
   "file_extension": ".py",
   "mimetype": "text/x-python",
   "name": "python",
   "nbconvert_exporter": "python",
   "pygments_lexer": "ipython3",
   "version": "3.8.10"
  }
 },
 "nbformat": 4,
 "nbformat_minor": 5
}
